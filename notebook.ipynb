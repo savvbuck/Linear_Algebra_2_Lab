{
 "cells": [
  {
   "cell_type": "code",
   "execution_count": 13,
   "metadata": {},
   "outputs": [],
   "source": [
    "from manim import *\n",
    "import numpy as np\n",
    "import math as mt\n",
    "config.media_width = \"75%\"\n",
    "config.verbosity = \"WARNING\""
   ]
  },
  {
   "cell_type": "markdown",
   "metadata": {},
   "source": [
    "1. Отражение плоскости относительно прямой $y=kx$"
   ]
  },
  {
   "cell_type": "markdown",
   "metadata": {},
   "source": [
    "![1](images\\1.jpg)"
   ]
  },
  {
   "cell_type": "markdown",
   "metadata": {},
   "source": [
    "Из геометрических соображений: \n",
    "$$\n",
    "\\begin{align}\n",
    "&\\vec{b} = \\vec{a} + 2 \\vec{c} \\\\\n",
    "&\\vec{c} = Pr_{\\vec{z}} \\vec{a} - \\vec{a} \\\\\n",
    "& \\vec{b}  = 2 Pr_{\\vec{z}} \\vec{a} - \\vec{a}\n",
    "\\end{align}\n",
    "$$\n",
    "Взяв в качестве вектора z вектор с координатами (1, k) получим такую матрицу: \n",
    "$$\n",
    "\\frac{1}{1+k^2}\n",
    "\\begin{pmatrix}\n",
    "1-k^2 & 2k \\\\\n",
    "2k & k^2-1\n",
    "\\end{pmatrix}\n",
    "$$"
   ]
  },
  {
   "cell_type": "code",
   "execution_count": 53,
   "metadata": {},
   "outputs": [],
   "source": [
    "def matrix_simmetrical(coefficence:float) -> np.ndarray:\n",
    "    matrix = np.array(\n",
    "        [ \n",
    "            [1-coefficence**2, 2*coefficence],\n",
    "            [2*coefficence, coefficence**2-1]\n",
    "        ]\n",
    "    ) * 1/(1+coefficence**2)\n",
    "    return matrix\n"
   ]
  },
  {
   "cell_type": "code",
   "execution_count": null,
   "metadata": {},
   "outputs": [],
   "source": [
    "%%manim -qm Animating\n",
    "class Animating(Scene):\n",
    "    def construct(self):\n",
    "        #коэффицент y=kx\n",
    "        k=2\n",
    "        matrix = matrix_simmetrical(k)\n",
    "        line = FunctionGraph(lambda t: k*t, color=RED)\n",
    "        poly = Polygon([1,1,0],[1,2,0],[2,2,0],[2,1,0], fill_color=ORANGE, fill_opacity=1)\n",
    "        plane = NumberPlane(x_range=(-10, 10), y_range=(-10,10))\n",
    "\n",
    "        self.play(Create(plane))\n",
    "        self.play(DrawBorderThenFill(poly))\n",
    "        self.play(Create(line))\n",
    "        self.play(ApplyMatrix(matrix, plane), ApplyMatrix(matrix,poly))\n",
    "        self.wait()"
   ]
  },
  {
   "cell_type": "markdown",
   "metadata": {},
   "source": [
    "2. Отображение всей плоскости в прямую $y = bx \\\\$\n",
    "\n",
    "Аналогично предыдущему, получим, что все вектора проектируются на одну прямую.\n",
    "$$\n",
    "\\begin{pmatrix}\n",
    "1 & 0 \\\\\n",
    "k & 0\n",
    "\\end{pmatrix}\n",
    "$$"
   ]
  },
  {
   "cell_type": "code",
   "execution_count": 55,
   "metadata": {},
   "outputs": [],
   "source": [
    "def matrix_project(coefficence : float) -> np.ndarray:\n",
    "    matrix = np.array(\n",
    "        [\n",
    "            [1, 0],\n",
    "            [coefficence, 0]\n",
    "        ]\n",
    "    )\n",
    "    return matrix"
   ]
  },
  {
   "cell_type": "code",
   "execution_count": null,
   "metadata": {},
   "outputs": [],
   "source": [
    "%%manim -qm Animating\n",
    "class Animating(Scene):\n",
    "    def construct(self):\n",
    "        #коэффицент b=kx\n",
    "        k=2\n",
    "        matrix = matrix_project(k)\n",
    "        line = FunctionGraph(lambda t: k*t, color=RED)\n",
    "        poly = Polygon([1,1,0],[1,2,0],[2,2,0],[2,1,0], fill_color=ORANGE, fill_opacity=1)\n",
    "        plane = NumberPlane(x_range=(-10, 10), y_range=(-10,10))\n",
    "\n",
    "        self.play(Create(plane))\n",
    "        self.play(DrawBorderThenFill(poly))\n",
    "        self.play(Create(line))\n",
    "        self.play(ApplyMatrix(matrix, plane), ApplyMatrix(matrix,poly))\n",
    "        self.wait()"
   ]
  },
  {
   "cell_type": "markdown",
   "metadata": {},
   "source": [
    "3. Поворот против часовой стрелки на 10с градусов\n",
    "\n",
    "Построим вектора:\n"
   ]
  },
  {
   "attachments": {
    "image.png": {
     "image/png": "[encoded data removed]"
    }
   },
   "cell_type": "markdown",
   "metadata": {},
   "source": [
    "![image.png](attachment:image.png)"
   ]
  },
  {
   "cell_type": "markdown",
   "metadata": {},
   "source": [
    "Возьмём произвольный вектор r, получим то его координаты:\n",
    "$$\n",
    "\\begin{align*}\n",
    "&x = |r| \\cos \\alpha \\\\\n",
    "&y = |r| \\sin \\alpha \\\\\n",
    "&x' = |r| \\cos (\\alpha - \\phi) = |r| \\cos \\alpha \\cos \\phi + |r| \\sin \\alpha \\sin \\phi\\\\ &= x \\cos \\alpha + y \\sin \\phi \\\\\n",
    "&y' = |r| \\sin ( \\alpha - \\phi) = |r| \\sin \\alpha \\cos \\phi - |r| \\cos \\alpha \\sin \\phi = y \\cos \\phi - x \\sin \\phi \\\\\n",
    "\n",
    "\n",
    "&\\begin{pmatrix}\n",
    "\\cos \\phi  & \\sin \\phi \\\\\n",
    "- \\sin \\phi & \\cos \\phi\n",
    "\\end{pmatrix}\n",
    "\\end{align*}\n",
    "$$"
   ]
  },
  {
   "cell_type": "code",
   "execution_count": 68,
   "metadata": {},
   "outputs": [],
   "source": [
    "def matrix_rotate10(coefficence : float) -> np.ndarray:\n",
    "    matrix = np.array(\n",
    "        [\n",
    "            [np.cos(np.deg2rad(-10 * coefficence)), np.sin(np.deg2rad(-10 * coefficence))],\n",
    "            [-np.sin(np.deg2rad(-10 * coefficence)), np.cos(np.deg2rad(-10 * coefficence))]\n",
    "        ]\n",
    "    )\n",
    "    return matrix"
   ]
  },
  {
   "cell_type": "code",
   "execution_count": null,
   "metadata": {},
   "outputs": [],
   "source": [
    "%%manim -qm Animating\n",
    "class Animating(Scene):\n",
    "    def construct(self):\n",
    "        #коэффицент c\n",
    "        k=9\n",
    "        matrix = matrix_rotate10(k)\n",
    "        poly = Polygon([1,1,0],[1,2,0],[2,2,0],[2,1,0], fill_color=ORANGE, fill_opacity=1)\n",
    "        plane = NumberPlane(x_range=(-10, 10), y_range=(-10,10))\n",
    "\n",
    "        self.play(Create(plane))\n",
    "        self.play(DrawBorderThenFill(poly))\n",
    "        self.play(ApplyMatrix(matrix, plane, rate_func=linear), ApplyMatrix(matrix,poly, rate_func=linear))\n",
    "        self.wait()"
   ]
  },
  {
   "cell_type": "markdown",
   "metadata": {},
   "source": [
    "4.  Центральная симметрия плоскости относительно начала координат\n",
    "\n",
    "$$\n",
    "\\begin{pmatrix}\n",
    "-1 & 0 \\\\\n",
    "0 & -1\n",
    "\\end{pmatrix}\n",
    "$$"
   ]
  },
  {
   "cell_type": "code",
   "execution_count": 72,
   "metadata": {},
   "outputs": [],
   "source": [
    "def matrix_cent_simmetry() -> np.ndarray:\n",
    "    matrix = np.array(\n",
    "        [\n",
    "            [-1, 0],\n",
    "            [0, -1]\n",
    "        ]\n",
    "    )\n",
    "    return matrix"
   ]
  },
  {
   "cell_type": "code",
   "execution_count": null,
   "metadata": {},
   "outputs": [],
   "source": [
    "%%manim -qm Animating\n",
    "class Animating(Scene):\n",
    "    def construct(self):\n",
    "        matrix = matrix_cent_simmetry()\n",
    "        poly = Polygon([1,1,0],[1,2,0],[2,2,0],[2,1,0], fill_color=ORANGE, fill_opacity=1)\n",
    "        plane = NumberPlane(x_range=(-10, 10), y_range=(-10,10))\n",
    "\n",
    "        self.play(Create(plane))\n",
    "        self.play(DrawBorderThenFill(poly))\n",
    "        self.play(ApplyMatrix(matrix, plane), ApplyMatrix(matrix,poly))\n",
    "        self.wait()"
   ]
  },
  {
   "cell_type": "markdown",
   "metadata": {},
   "source": [
    "5. Сначала отражение относительно прямой $y = ax$, потом поворот на $10d$ градусов по часовой стрелке."
   ]
  },
  {
   "cell_type": "markdown",
   "metadata": {},
   "source": [
    "$$\n",
    "\\frac{1}{1+k^2}\n",
    "\\begin{pmatrix}\n",
    "1-k^2 & 2k \\\\\n",
    "2k & k^2-1\n",
    "\\end{pmatrix} \\begin{pmatrix}\n",
    "\\cos \\phi & \\sin \\phi \\\\\n",
    "-\\sin \\phi & \\cos \\phi\n",
    "\\end{pmatrix} = \\frac{1}{1+k^2} \\begin{pmatrix}\n",
    "(1-k^2)\\cos \\phi - 2k \\sin \\phi & 2k\\cos \\phi - (k^2-1)\\sin \\phi \\\\\n",
    "(1-k^2)\\sin \\phi+2k\\cos \\phi & 2k\\sin \\phi+(k^2-1)\\cos \\phi\n",
    "\\end{pmatrix}\n",
    "$$"
   ]
  },
  {
   "cell_type": "code",
   "execution_count": 14,
   "metadata": {},
   "outputs": [],
   "source": [
    "def matrix_simmetry10_then_rotate(coefficence:float, angle:float) -> np.ndarray:\n",
    "    angle = np.deg2rad(angle * 10)\n",
    "    matrix = np.array([\n",
    "        [(1-coefficence**2)*np.cos(angle)-2*coefficence*np.sin(angle), 2*coefficence*np.cos(angle) - (coefficence**2-1)*np.sin(angle)],\n",
    "        [(1-coefficence**2)*np.sin(angle)+2*coefficence*np.cos(angle), 2*coefficence*np.sin(angle) + (coefficence**2-1)*np.cos(angle)]\n",
    "    ])\n",
    "    return matrix * 1/(1+coefficence**2)"
   ]
  },
  {
   "cell_type": "code",
   "execution_count": null,
   "metadata": {},
   "outputs": [],
   "source": [
    "%%manim -qm Animating\n",
    "class Animating(Scene):\n",
    "    def construct(self):\n",
    "        k = 2\n",
    "        angle=2\n",
    "        matrix = matrix_simmetry10_then_rotate(k, angle)\n",
    "        poly = Polygon([1,1,0],[1,2,0],[2,2,0],[2,1,0], fill_color=ORANGE, fill_opacity=1)\n",
    "        plane = NumberPlane(x_range=(-10, 10), y_range=(-10,10))\n",
    "        line = FunctionGraph(lambda t: k*t, color=RED)\n",
    "\n",
    "        self.play(Create(plane))\n",
    "        self.play(DrawBorderThenFill(poly))\n",
    "        self.play(Create(line))\n",
    "        self.play(ApplyMatrix(matrix, plane), ApplyMatrix(matrix,poly))\n",
    "        self.wait()\n",
    "        self.play(ApplyMatrix(matrix, line))\n",
    "        self.wait()"
   ]
  },
  {
   "cell_type": "markdown",
   "metadata": {},
   "source": [
    "6. Отображение, которое переводит прямую $y = 0$ в $y = ax$ и прямую $x = 0$ в $y = bx$."
   ]
  },
  {
   "cell_type": "code",
   "execution_count": 17,
   "metadata": {},
   "outputs": [],
   "source": [
    "def matrix_ax_bx(a:float, b:float) -> np.ndarray:\n",
    "    matrix = np.array(\n",
    "    [\n",
    "        [1, b],\n",
    "        [a, 1]\n",
    "    ]\n",
    "    )\n",
    "    return matrix"
   ]
  },
  {
   "cell_type": "code",
   "execution_count": null,
   "metadata": {},
   "outputs": [],
   "source": [
    "%%manim -qm Animating\n",
    "class Animating(Scene):\n",
    "    def construct(self):\n",
    "        a = 2\n",
    "        b = -1\n",
    "        matrix = matrix_ax_bx(a, b)\n",
    "        poly = Polygon([1,1,0],[1,2,0],[2,2,0],[2,1,0], fill_color=ORANGE, fill_opacity=1)\n",
    "        plane = NumberPlane(x_range=(-10, 10), y_range=(-10,10))\n",
    "        line1 = FunctionGraph(lambda t: a*t, color=RED)\n",
    "        line2 = FunctionGraph(lambda t: b*t, color=GREEN)\n",
    "\n",
    "\n",
    "        self.play(Create(plane))\n",
    "        self.play(DrawBorderThenFill(poly))\n",
    "        self.play(Create(line1), Create(line2))\n",
    "        self.play(ApplyMatrix(matrix, plane), ApplyMatrix(matrix,poly))\n",
    "        self.wait()\n",
    "        self.wait()"
   ]
  }
 ],
 "metadata": {
  "kernelspec": {
   "display_name": "myenv",
   "language": "python",
   "name": "python3"
  },
  "language_info": {
   "codemirror_mode": {
    "name": "ipython",
    "version": 3
   },
   "file_extension": ".py",
   "mimetype": "text/x-python",
   "name": "python",
   "nbconvert_exporter": "python",
   "pygments_lexer": "ipython3",
   "version": "3.10.11"
  }
 },
 "nbformat": 4,
 "nbformat_minor": 2
}
